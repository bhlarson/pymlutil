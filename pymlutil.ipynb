{
 "cells": [
  {
   "cell_type": "code",
   "execution_count": 1,
   "metadata": {},
   "outputs": [],
   "source": [
    "from pymlutil.functions import *\n",
    "from pymlutil.jsonutil import cmd, ReadDict, WriteDict\n",
    "from pymlutil.version import VersionString\n",
    "from pymlutil.s3 import s3store, Connect\n",
    "import torch\n",
    "from matplotlib import pyplot as plt"
   ]
  },
  {
   "cell_type": "markdown",
   "metadata": {},
   "source": [
    "### jsonutil\n",
    "**ReadDict** returns a python dictionary from a json or yaml dictionary"
   ]
  },
  {
   "cell_type": "code",
   "execution_count": 2,
   "metadata": {},
   "outputs": [
    {
     "data": {
      "text/plain": [
       "[{'zero': 0}, {'one': 1}, {'two': 2}]"
      ]
     },
     "execution_count": 2,
     "metadata": {},
     "output_type": "execute_result"
    }
   ],
   "source": [
    "dict = ReadDict('test.yaml')\n",
    "dict['test_yaml']"
   ]
  },
  {
   "cell_type": "markdown",
   "metadata": {},
   "source": [
    "**cmd** executes shell commands and displays the result in the console"
   ]
  },
  {
   "cell_type": "code",
   "execution_count": 3,
   "metadata": {},
   "outputs": [
    {
     "name": "stdout",
     "output_type": "stream",
     "text": [
      "$ ls -la\n",
      "total 120\n",
      "drwxrwxr-x 11 blarson blarson  4096 Jun  9 12:10 .\n",
      "drwxrwxrwx 52 blarson blarson  4096 May 31 14:34 ..\n",
      "drwxrwxr-x  4 blarson blarson  4096 Apr  4 15:39 build\n",
      "-rw-rw-r--  1 blarson blarson   729 May  2 17:12 creds.yaml\n",
      "-rwxrwxr-x  1 blarson blarson  4207 May 23 08:30 deploy\n",
      "drwxrwxr-x  2 blarson blarson  4096 Jun  9 12:10 dist\n",
      "drwxrwxr-x  8 blarson blarson  4096 Jun  9 12:09 .git\n",
      "-rw-rw-r--  1 blarson blarson  1819 Apr 12 22:17 .gitignore\n",
      "drwxrwxr-x  2 blarson blarson  4096 Apr 13 09:01 img\n",
      "drwxrwxr-x  2 blarson blarson  4096 Apr 25 10:13 .ipynb_checkpoints\n",
      "-rw-rw-r--  1 blarson blarson 11357 Apr 12 07:01 LICENSE\n",
      "drwxrwxr-x  3 blarson blarson  4096 May  2 17:38 pymlutil\n",
      "drwxrwxr-x  2 blarson blarson  4096 Jun  9 12:10 pymlutil.egg-info\n",
      "-rw-rw-r--  1 blarson blarson 35083 Jun  9 12:13 pymlutil.ipynb\n",
      "-rw-rw-r--  1 blarson blarson  1580 May 17 17:49 README.md\n",
      "-rw-rw-r--  1 blarson blarson  1279 May 23 15:11 setup.py\n",
      "drwxrwxr-x  4 blarson blarson  4096 May 17 16:24 tests\n",
      "-rw-rw-r--  1 blarson blarson   231 May 17 16:45 test.yaml\n",
      "drwxrwxr-x  2 blarson blarson  4096 Apr  8 10:55 .vscode\n",
      "\n",
      "\n",
      "result 0 in 0.01822s\n"
     ]
    },
    {
     "data": {
      "text/plain": [
       "(0,\n",
       " b'',\n",
       " b'total 120\\ndrwxrwxr-x 11 blarson blarson  4096 Jun  9 12:10 .\\ndrwxrwxrwx 52 blarson blarson  4096 May 31 14:34 ..\\ndrwxrwxr-x  4 blarson blarson  4096 Apr  4 15:39 build\\n-rw-rw-r--  1 blarson blarson   729 May  2 17:12 creds.yaml\\n-rwxrwxr-x  1 blarson blarson  4207 May 23 08:30 deploy\\ndrwxrwxr-x  2 blarson blarson  4096 Jun  9 12:10 dist\\ndrwxrwxr-x  8 blarson blarson  4096 Jun  9 12:09 .git\\n-rw-rw-r--  1 blarson blarson  1819 Apr 12 22:17 .gitignore\\ndrwxrwxr-x  2 blarson blarson  4096 Apr 13 09:01 img\\ndrwxrwxr-x  2 blarson blarson  4096 Apr 25 10:13 .ipynb_checkpoints\\n-rw-rw-r--  1 blarson blarson 11357 Apr 12 07:01 LICENSE\\ndrwxrwxr-x  3 blarson blarson  4096 May  2 17:38 pymlutil\\ndrwxrwxr-x  2 blarson blarson  4096 Jun  9 12:10 pymlutil.egg-info\\n-rw-rw-r--  1 blarson blarson 35083 Jun  9 12:13 pymlutil.ipynb\\n-rw-rw-r--  1 blarson blarson  1580 May 17 17:49 README.md\\n-rw-rw-r--  1 blarson blarson  1279 May 23 15:11 setup.py\\ndrwxrwxr-x  4 blarson blarson  4096 May 17 16:24 tests\\n-rw-rw-r--  1 blarson blarson   231 May 17 16:45 test.yaml\\ndrwxrwxr-x  2 blarson blarson  4096 Apr  8 10:55 .vscode\\n')"
      ]
     },
     "execution_count": 3,
     "metadata": {},
     "output_type": "execute_result"
    }
   ],
   "source": [
    "cmd('ls -la')"
   ]
  },
  {
   "cell_type": "markdown",
   "metadata": {},
   "source": [
    "### functions\n",
    "**GaussianBasis** computes a unit height gaussian bell curve function\n",
    "$$ GaussianBasis(x, zero, sigma) = e^{-\\frac{(x-zero)^2}{2*sigma^2}} $$\n",
    "- x : function input\n",
    "- zero : location of the peak center\n",
    "- sigma: curve with or standard deviation"
   ]
  },
  {
   "cell_type": "code",
   "execution_count": 4,
   "metadata": {},
   "outputs": [
    {
     "data": {
      "image/png": "[encoded data removed]",
      "text/plain": [
       "<Figure size 432x288 with 1 Axes>"
      ]
     },
     "metadata": {
      "needs_background": "light"
     },
     "output_type": "display_data"
    }
   ],
   "source": [
    "x = np.arange(-2.0, 2.0, 0.01) \n",
    "y = GaussianBasis(torch.tensor(x))\n",
    "plt.plot(x, y)\n",
    "plt.show()"
   ]
  },
  {
   "cell_type": "markdown",
   "metadata": {},
   "source": [
    "**GaussianBasis** computes a unit height gaussian bell curve function\n",
    "$$ SigmoidScale(x, scale = 5, exp = 0.1, maxscale=500) = min(scale+e^{exp*x}, maxscale) $$\n",
    "- **x:** function input\n",
    "- **scale:** location of the peak center\n",
    "- **exp:** curve with or standard deviation\n",
    "- **maxscale:** curve with or standard deviation\n"
   ]
  },
  {
   "cell_type": "code",
   "execution_count": 1,
   "metadata": {},
   "outputs": [
    {
     "ename": "NameError",
     "evalue": "name 'np' is not defined",
     "output_type": "error",
     "traceback": [
      "\u001b[0;31m---------------------------------------------------------------------------\u001b[0m",
      "\u001b[0;31mNameError\u001b[0m                                 Traceback (most recent call last)",
      "\u001b[0;32m/tmp/ipykernel_1763365/3073206290.py\u001b[0m in \u001b[0;36m<module>\u001b[0;34m\u001b[0m\n\u001b[0;32m----> 1\u001b[0;31m \u001b[0mx\u001b[0m \u001b[0;34m=\u001b[0m \u001b[0mnp\u001b[0m\u001b[0;34m.\u001b[0m\u001b[0marange\u001b[0m\u001b[0;34m(\u001b[0m\u001b[0;34m-\u001b[0m\u001b[0;36m2.0\u001b[0m\u001b[0;34m,\u001b[0m \u001b[0;36m2.0\u001b[0m\u001b[0;34m,\u001b[0m \u001b[0;36m0.01\u001b[0m\u001b[0;34m)\u001b[0m\u001b[0;34m\u001b[0m\u001b[0;34m\u001b[0m\u001b[0m\n\u001b[0m\u001b[1;32m      2\u001b[0m \u001b[0my\u001b[0m \u001b[0;34m=\u001b[0m \u001b[0mSigmoidScale\u001b[0m\u001b[0;34m(\u001b[0m\u001b[0mx\u001b[0m\u001b[0;34m)\u001b[0m\u001b[0;34m\u001b[0m\u001b[0;34m\u001b[0m\u001b[0m\n\u001b[1;32m      3\u001b[0m \u001b[0mplt\u001b[0m\u001b[0;34m.\u001b[0m\u001b[0mplot\u001b[0m\u001b[0;34m(\u001b[0m\u001b[0mx\u001b[0m\u001b[0;34m,\u001b[0m \u001b[0my\u001b[0m\u001b[0;34m)\u001b[0m\u001b[0;34m\u001b[0m\u001b[0;34m\u001b[0m\u001b[0m\n\u001b[1;32m      4\u001b[0m \u001b[0mplt\u001b[0m\u001b[0;34m.\u001b[0m\u001b[0mshow\u001b[0m\u001b[0;34m(\u001b[0m\u001b[0;34m)\u001b[0m\u001b[0;34m\u001b[0m\u001b[0;34m\u001b[0m\u001b[0m\n",
      "\u001b[0;31mNameError\u001b[0m: name 'np' is not defined"
     ]
    }
   ],
   "source": [
    "from pymlutil.functions import Sigmoid\n",
    "x = np.arange(-2.0, 2.0, 0.01) \n",
    "y = Sigmoid(x)\n",
    "plt.plot(x, y)\n",
    "plt.show()"
   ]
  },
  {
   "cell_type": "code",
   "execution_count": 5,
   "metadata": {},
   "outputs": [
    {
     "data": {
      "image/png": "[encoded data removed]",
      "text/plain": [
       "<Figure size 432x288 with 1 Axes>"
      ]
     },
     "metadata": {
      "needs_background": "light"
     },
     "output_type": "display_data"
    }
   ],
   "source": [
    "import numpy as np\n",
    "from matplotlib import pyplot as plt\n",
    "from pymlutil.functions import Exponential, GaussianBasis\n",
    "\n",
    "\n",
    "vx = 1.0\n",
    "vy = 1.0\n",
    "px = 10.0\n",
    "py = 20.0\n",
    "power=2\n",
    "\n",
    "expf =  Exponential(vx=vx, vy=vy, px=px, py=py, power=power)\n",
    "\n",
    "x = np.arange(0, px+5, 0.01)\n",
    "plt.plot(x, expf.f(x))\n",
    "plt.show()"
   ]
  },
  {
   "cell_type": "markdown",
   "metadata": {},
   "source": []
  },
  {
   "cell_type": "markdown",
   "metadata": {},
   "source": [
    "## S3\n",
    "The pymutil s3 module provides an interface on top of the python minio library.  Class functions include\n",
    "- __init__: managing urllib3 certificate and timeout paraemeters for connection to https and http endpoints\n",
    "- PutDir: write local directory to object storage\n",
    "- GetDir: "
   ]
  },
  {
   "cell_type": "code",
   "execution_count": 6,
   "metadata": {},
   "outputs": [
    {
     "data": {
      "text/plain": [
       "{'name': 'store',\n",
       " 'type': 'trainer',\n",
       " 'address': '198.211.145.1:30990',\n",
       " 'tls': False,\n",
       " 'sets': {'dataset': {'bucket': 'mllib',\n",
       "   'prefix': 'data',\n",
       "   'dataset_filter': ''},\n",
       "  'trainingset': {'bucket': 'mllib',\n",
       "   'prefix': 'training',\n",
       "   'dataset_filter': ''},\n",
       "  'model': {'bucket': 'mllib', 'prefix': 'model', 'dataset_filter': ''},\n",
       "  'test': {'bucket': 'mllib', 'prefix': 'test', 'dataset_filter': ''}}}"
      ]
     },
     "execution_count": 6,
     "metadata": {},
     "output_type": "execute_result"
    }
   ],
   "source": [
    "credentials = \"creds.yaml\"\n",
    "s3, creds, s3def = Connect(credentials)\n",
    "s3def"
   ]
  },
  {
   "cell_type": "code",
   "execution_count": 7,
   "metadata": {},
   "outputs": [
    {
     "name": "stderr",
     "output_type": "stream",
     "text": [
      "PutDir: 0it [00:00, ?it/s]\n"
     ]
    },
    {
     "data": {
      "text/plain": [
       "True"
      ]
     },
     "execution_count": 7,
     "metadata": {},
     "output_type": "execute_result"
    }
   ],
   "source": [
    "dest = '{}/{}'.format(s3def['sets']['dataset']['prefix'], 'testimages')\n",
    "s3.PutDir(s3def['sets']['dataset']['bucket'], 'dataset', dest)"
   ]
  },
  {
   "cell_type": "markdown",
   "metadata": {},
   "source": [
    "pymlutil provides exposes a module command line interface to the following functions\n",
    "\n",
    "'''cmd\n",
    "python3 -m pymlutil -p -src tests/testimages -set dataset -dest testimages\n",
    "'''"
   ]
  },
  {
   "cell_type": "code",
   "execution_count": 12,
   "metadata": {},
   "outputs": [
    {
     "name": "stdout",
     "output_type": "stream",
     "text": [
      "PutDir: 100%|████████████████████████████████████| 3/3 [00:00<00:00, 113.81it/s]\n",
      "pymluitil complete\n"
     ]
    }
   ],
   "source": [
    "! python3 -m pymlutil -p -src tests/testimages -set test -dest notebook/testimageg"
   ]
  },
  {
   "cell_type": "markdown",
   "metadata": {},
   "source": [
    "s3.GitDir copies an S3 path and all sub-objects to a directory from python or command line as follows:"
   ]
  },
  {
   "cell_type": "code",
   "execution_count": 9,
   "metadata": {},
   "outputs": [],
   "source": [
    "import tempfile\n",
    "with tempfile.TemporaryDirectory() as tmpdirname:\n",
    "    s3.GetDir(s3def['sets']['dataset']['bucket'], dest, tmpdirname)"
   ]
  },
  {
   "cell_type": "code",
   "execution_count": 16,
   "metadata": {},
   "outputs": [
    {
     "name": "stdout",
     "output_type": "stream",
     "text": [
      "100%|████████████████████████████████████████████| 3/3 [00:00<00:00, 166.79it/s]\n",
      "pymluitil complete\n"
     ]
    }
   ],
   "source": [
    "! python3 -m pymlutil -g -src notebook/testimage -set test -dest tests/notebook/testgitdir"
   ]
  },
  {
   "cell_type": "markdown",
   "metadata": {},
   "source": [
    "The python module -clone parameter copies data from one S3 to another\n",
    "\n",
    "ssh port forwarding:\n",
    "```cmd\n",
    "ssh -L 29990:ai2.cbd:30990 ai@ai2.cbd\n",
    "```\n",
    "\n",
    "```yaml\n",
    "s3:\n",
    "- name: store\n",
    "  type: trainer\n",
    "  address: 10.180.68.235:31994\n",
    "  access key: <access key>\n",
    "  secret key: <secret key>\n",
    "  tls: false\n",
    "  cert verify: false\n",
    "  cert path: null\n",
    "  sets:\n",
    "    dataset: {\"bucket\":\"annotations\",\"prefix\":\"\", \"dataset_filter\":\"\" }\n",
    "    trainingset: {\"bucket\":\"trainingset\",\"prefix\":\"\", \"dataset_filter\":\"\" }\n",
    "    model: {\"bucket\":\"savedmodel\",\"prefix\":\"\", \"dataset_filter\":\"\" }\n",
    "    test: {\"bucket\":\"test\",\"prefix\":\"\", \"dataset_filter\":\"\" }\n",
    "- name: ai2\n",
    "  type: trainer\n",
    "  address: 127.0.0.1:29990\n",
    "  access key: <access key>\n",
    "  secret key: <secret key>\n",
    "  tls: false\n",
    "  cert verify: false\n",
    "  cert path: null\n",
    "  sets:\n",
    "    dataset: {\"bucket\":\"imgml\",\"prefix\":\"data\", \"dataset_filter\":\"\" }\n",
    "    trainingset: {\"bucket\":\"imgml\",\"prefix\":\"training\", \"dataset_filter\":\"\" }\n",
    "    model: {\"bucket\":\"imgml\",\"prefix\":\"model\", \"dataset_filter\":\"\" }\n",
    "    test: {\"bucket\":\"imgml\",\"prefix\":\"test\", \"dataset_filter\":\"\" }\n",
    "```"
   ]
  },
  {
   "cell_type": "code",
   "execution_count": 11,
   "metadata": {},
   "outputs": [
    {
     "name": "stdout",
     "output_type": "stream",
     "text": [
      "Traceback (most recent call last):\n",
      "  File \"/usr/lib/python3.8/runpy.py\", line 194, in _run_module_as_main\n",
      "    return _run_code(code, main_globals, None,\n",
      "  File \"/usr/lib/python3.8/runpy.py\", line 87, in _run_code\n",
      "    exec(code, run_globals)\n",
      "  File \"/data/git/pymlutil/pymlutil/__main__.py\", line 92, in <module>\n",
      "    main(args)\n",
      "  File \"/data/git/pymlutil/pymlutil/__main__.py\", line 61, in main\n",
      "    s3Dest, _, s3DestDef = Connect(args.credentials, s3_name=args.destS3)\n",
      "  File \"/data/git/pymlutil/pymlutil/s3.py\", line 407, in Connect\n",
      "    s3 = s3store(s3_creds['address'], \n",
      "TypeError: 'NoneType' object is not subscriptable\n"
     ]
    }
   ],
   "source": [
    "! python3 -m pymlutil -clone -srcS3 store -destS3 ai2 -src \"\" -dest lit"
   ]
  },
  {
   "cell_type": "code",
   "execution_count": null,
   "metadata": {},
   "outputs": [],
   "source": []
  }
 ],
 "metadata": {
  "kernelspec": {
   "display_name": "Python 3.8.10 64-bit",
   "language": "python",
   "name": "python3"
  },
  "language_info": {
   "codemirror_mode": {
    "name": "ipython",
    "version": 3
   },
   "file_extension": ".py",
   "mimetype": "text/x-python",
   "name": "python",
   "nbconvert_exporter": "python",
   "pygments_lexer": "ipython3",
   "version": "3.8.10"
  },
  "orig_nbformat": 4,
  "vscode": {
   "interpreter": {
    "hash": "e7370f93d1d0cde622a1f8e1c04877d8463912d04d973331ad4851f04de6915a"
   }
  }
 },
 "nbformat": 4,
 "nbformat_minor": 2
}
