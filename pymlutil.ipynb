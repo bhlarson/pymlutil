{
 "cells": [
  {
   "cell_type": "code",
   "execution_count": 2,
   "metadata": {},
   "outputs": [],
   "source": [
    "from pymlutil.functions import *\n",
    "from pymlutil.jsonutil import cmd, ReadDict, WriteDict\n",
    "from pymlutil.version import VersionString\n",
    "from pymlutil.s3 import s3store, Connect\n",
    "import torch\n",
    "from matplotlib import pyplot as plt"
   ]
  },
  {
   "cell_type": "markdown",
   "metadata": {},
   "source": [
    "### jsonutil\n",
    "**ReadDict** returns a python dictionary from a json or yaml dictionary"
   ]
  },
  {
   "cell_type": "code",
   "execution_count": 5,
   "metadata": {},
   "outputs": [
    {
     "data": {
      "text/plain": [
       "[{'zero': 0}, {'one': 1}, {'two': 2}]"
      ]
     },
     "execution_count": 5,
     "metadata": {},
     "output_type": "execute_result"
    }
   ],
   "source": [
    "dict = ReadDict('test.yaml')\n",
    "dict['test_yaml']"
   ]
  },
  {
   "cell_type": "markdown",
   "metadata": {},
   "source": [
    "**cmd** executes shell commands and displays the result in the console"
   ]
  },
  {
   "cell_type": "code",
   "execution_count": 6,
   "metadata": {},
   "outputs": [
    {
     "name": "stdout",
     "output_type": "stream",
     "text": [
      "total 112\n",
      "drwxrwxr-x 11 blarson blarson  4096 May 10 10:10 .\n",
      "drwxrwxrwx 50 blarson blarson  4096 Apr 15 13:21 ..\n",
      "drwxrwxr-x  4 blarson blarson  4096 Apr  4 15:39 build\n",
      "-rw-rw-r--  1 blarson blarson   729 May  2 17:12 creds.yaml\n",
      "-rwxrwxr-x  1 blarson blarson  4553 May  2 17:18 deploy\n",
      "drwxrwxr-x  2 blarson blarson  4096 May 10 10:10 dist\n",
      "drwxrwxr-x  8 blarson blarson  4096 May 17 16:48 .git\n",
      "-rw-rw-r--  1 blarson blarson  1819 Apr 12 22:17 .gitignore\n",
      "drwxrwxr-x  2 blarson blarson  4096 Apr 13 09:01 img\n",
      "drwxrwxr-x  2 blarson blarson  4096 Apr 25 10:13 .ipynb_checkpoints\n",
      "-rw-rw-r--  1 blarson blarson 11357 Apr 12 07:01 LICENSE\n",
      "-rw-rw-r--  1 blarson blarson    81 Apr 29 09:22 MANIFESET.in\n",
      "drwxrwxr-x  3 blarson blarson  4096 May  2 17:38 pymlutil\n",
      "drwxrwxr-x  2 blarson blarson  4096 May 10 10:10 pymlutil.egg-info\n",
      "-rw-rw-r--  1 blarson blarson 20758 May 17 16:57 pymlutil.ipynb\n",
      "-rw-rw-r--  1 blarson blarson  1350 May 17 16:22 README.md\n",
      "-rw-rw-r--  1 blarson blarson  1529 Apr 18 07:39 setup.py\n",
      "dr0.02585s command ls -la results 0\n"
     ]
    },
    {
     "data": {
      "text/plain": [
       "0"
      ]
     },
     "execution_count": 6,
     "metadata": {},
     "output_type": "execute_result"
    },
    {
     "name": "stdout",
     "output_type": "stream",
     "text": [
      "wxrwxr-x  4 blarson blarson  4096 May 17 16:24 tests\n",
      "-rw-rw-r--  1 blarson blarson   231 May 17 16:45 test.yaml\n",
      "drwxrwxr-x  2 blarson blarson  4096 Apr  8 10:55 .vscode\n"
     ]
    }
   ],
   "source": [
    "cmd('ls -la')"
   ]
  },
  {
   "cell_type": "markdown",
   "metadata": {},
   "source": [
    "### functions\n",
    "**GaussianBasis** computes a unit height gaussian bell curve function\n",
    "$$ GaussianBasis(x, zero, sigma) = e^{-\\frac{(x-zero)^2}{2*sigma^2}} $$\n",
    "- x : function input\n",
    "- zero : location of the peak center\n",
    "- sigma: curve with or standard deviation"
   ]
  },
  {
   "cell_type": "code",
   "execution_count": 8,
   "metadata": {},
   "outputs": [
    {
     "data": {
      "image/png": "[encoded data removed]",
      "text/plain": [
       "<Figure size 432x288 with 1 Axes>"
      ]
     },
     "metadata": {
      "needs_background": "light"
     },
     "output_type": "display_data"
    }
   ],
   "source": [
    "x = np.arange(-2.0, 2.0, 0.01) \n",
    "y = GaussianBasis(torch.tensor(x))\n",
    "plt.plot(x, y)\n",
    "plt.show()"
   ]
  },
  {
   "cell_type": "code",
   "execution_count": 1,
   "metadata": {},
   "outputs": [
    {
     "data": {
      "image/png": "[encoded data removed]",
      "text/plain": [
       "<Figure size 432x288 with 1 Axes>"
      ]
     },
     "metadata": {
      "needs_background": "light"
     },
     "output_type": "display_data"
    }
   ],
   "source": [
    "import numpy as np\n",
    "from matplotlib import pyplot as plt\n",
    "from pymlutil.functions import Exponential, GaussianBasis\n",
    "\n",
    "\n",
    "vx = 1.0\n",
    "vy = 1.0\n",
    "px = 10.0\n",
    "py = 20.0\n",
    "power=2\n",
    "\n",
    "expf =  Exponential(vx=vx, vy=vy, px=px, py=py, power=power)\n",
    "\n",
    "x = np.arange(0, px+5, 0.01)\n",
    "plt.plot(x, expf.f(x))\n",
    "plt.show()"
   ]
  },
  {
   "cell_type": "markdown",
   "metadata": {},
   "source": []
  },
  {
   "cell_type": "markdown",
   "metadata": {},
   "source": [
    "## S3\n",
    "The pymutil s3 module provides an interface on top of the python minio library.  Class functions include\n",
    "- __init__: managing urllib3 certificate and timeout paraemeters for connection to https and http endpoints\n",
    "- PutDir: write local directory to object storage\n",
    "- GetDir: "
   ]
  },
  {
   "cell_type": "code",
   "execution_count": 5,
   "metadata": {},
   "outputs": [
    {
     "data": {
      "text/plain": [
       "{'name': 'store',\n",
       " 'type': 'trainer',\n",
       " 'address': '198.211.145.1:30990',\n",
       " 'tls': False,\n",
       " 'sets': {'dataset': {'bucket': 'mllib',\n",
       "   'prefix': 'data',\n",
       "   'dataset_filter': ''},\n",
       "  'trainingset': {'bucket': 'mllib',\n",
       "   'prefix': 'training',\n",
       "   'dataset_filter': ''},\n",
       "  'model': {'bucket': 'mllib', 'prefix': 'model', 'dataset_filter': ''},\n",
       "  'test': {'bucket': 'mllib', 'prefix': 'test', 'dataset_filter': ''}}}"
      ]
     },
     "execution_count": 5,
     "metadata": {},
     "output_type": "execute_result"
    }
   ],
   "source": [
    "credentials = \"creds.yaml\"\n",
    "s3, creds, s3def = Connect(credentials)\n",
    "s3def"
   ]
  },
  {
   "cell_type": "code",
   "execution_count": 6,
   "metadata": {},
   "outputs": [
    {
     "name": "stderr",
     "output_type": "stream",
     "text": [
      "0it [00:00, ?it/s]\n"
     ]
    },
    {
     "data": {
      "text/plain": [
       "True"
      ]
     },
     "execution_count": 6,
     "metadata": {},
     "output_type": "execute_result"
    }
   ],
   "source": [
    "dest = '{}/{}'.format(s3def['sets']['dataset']['prefix'], 'testimages')\n",
    "s3.PutDir(s3def['sets']['dataset']['bucket'], 'dataset', dest)"
   ]
  },
  {
   "cell_type": "markdown",
   "metadata": {},
   "source": [
    "pymlutil provides exposes a module command line interface to the following functions\n",
    "\n",
    "'''cmd\n",
    "python3 -m pymlutil -p -src tests/testimages -set dataset -dest testimages\n",
    "'''"
   ]
  },
  {
   "cell_type": "code",
   "execution_count": 8,
   "metadata": {},
   "outputs": [
    {
     "name": "stdout",
     "output_type": "stream",
     "text": [
      "100%|█████████████████████████████████████████████| 3/3 [00:00<00:00, 98.15it/s]\n",
      "pymluitil complete\n"
     ]
    }
   ],
   "source": [
    "! python3 -m pymlutil -p -src tests/testimages -set dataset -dest test/testimage"
   ]
  },
  {
   "cell_type": "markdown",
   "metadata": {},
   "source": [
    "s3.GitDir copies an S3 path and all sub-objects to a directory from python or command line as follows:"
   ]
  },
  {
   "cell_type": "code",
   "execution_count": null,
   "metadata": {},
   "outputs": [],
   "source": [
    "with tempfile.TemporaryDirectory() as tmpdirname:\n",
    "    s3.GetDir(s3def['sets']['dataset']['bucket'], dest, tmpdirname)"
   ]
  },
  {
   "cell_type": "code",
   "execution_count": null,
   "metadata": {},
   "outputs": [],
   "source": [
    "! python3 -m pymlutil -g -src test/testimages -set dataset -dest tests/testgitdir"
   ]
  },
  {
   "cell_type": "markdown",
   "metadata": {},
   "source": [
    "The python module -clone parameter copies data from one S3 to another\n",
    "\n",
    "ssh port forwarding:\n",
    "```cmd\n",
    "ssh -L 29990:ai2.cbd:30990 ai@ai2.cbd\n",
    "```\n",
    "\n",
    "```yaml\n",
    "s3:\n",
    "- name: store\n",
    "  type: trainer\n",
    "  address: 10.180.68.235:31994\n",
    "  access key: <access key>\n",
    "  secret key: <secret key>\n",
    "  tls: false\n",
    "  cert verify: false\n",
    "  cert path: null\n",
    "  sets:\n",
    "    dataset: {\"bucket\":\"annotations\",\"prefix\":\"\", \"dataset_filter\":\"\" }\n",
    "    trainingset: {\"bucket\":\"trainingset\",\"prefix\":\"\", \"dataset_filter\":\"\" }\n",
    "    model: {\"bucket\":\"savedmodel\",\"prefix\":\"\", \"dataset_filter\":\"\" }\n",
    "    test: {\"bucket\":\"test\",\"prefix\":\"\", \"dataset_filter\":\"\" }\n",
    "- name: ai2\n",
    "  type: trainer\n",
    "  address: 127.0.0.1:29990\n",
    "  access key: <access key>\n",
    "  secret key: <secret key>\n",
    "  tls: false\n",
    "  cert verify: false\n",
    "  cert path: null\n",
    "  sets:\n",
    "    dataset: {\"bucket\":\"imgml\",\"prefix\":\"data\", \"dataset_filter\":\"\" }\n",
    "    trainingset: {\"bucket\":\"imgml\",\"prefix\":\"training\", \"dataset_filter\":\"\" }\n",
    "    model: {\"bucket\":\"imgml\",\"prefix\":\"model\", \"dataset_filter\":\"\" }\n",
    "    test: {\"bucket\":\"imgml\",\"prefix\":\"test\", \"dataset_filter\":\"\" }\n",
    "```"
   ]
  },
  {
   "cell_type": "code",
   "execution_count": null,
   "metadata": {},
   "outputs": [],
   "source": [
    "! python3 -m pymlutil -clone -srcS3 store -destS3 ai2 -src \"\" -dest lit"
   ]
  },
  {
   "cell_type": "code",
   "execution_count": null,
   "metadata": {},
   "outputs": [],
   "source": []
  }
 ],
 "metadata": {
  "interpreter": {
   "hash": "31f2aee4e71d21fbe5cf8b01ff0e069b9275f58929596ceb00d14d90e3e16cd6"
  },
  "kernelspec": {
   "display_name": "Python 3.8.10 64-bit",
   "language": "python",
   "name": "python3"
  },
  "language_info": {
   "codemirror_mode": {
    "name": "ipython",
    "version": 3
   },
   "file_extension": ".py",
   "mimetype": "text/x-python",
   "name": "python",
   "nbconvert_exporter": "python",
   "pygments_lexer": "ipython3",
   "version": "3.8.10"
  },
  "orig_nbformat": 4
 },
 "nbformat": 4,
 "nbformat_minor": 2
}
